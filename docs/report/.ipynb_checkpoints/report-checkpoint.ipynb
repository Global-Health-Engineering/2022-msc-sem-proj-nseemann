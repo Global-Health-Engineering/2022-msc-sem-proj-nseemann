{
 "cells": [
  {
   "cell_type": "raw",
   "id": "3d14e404-c145-438e-8480-700c20486d4e",
   "metadata": {},
   "source": [
    "---\n",
    "title: Optimization of solid waste in Blantyre, Malawi\n",
    "author: Nicolas Seemann-Ricard \n",
    "format:\n",
    "    html:\n",
    "        toc: false\n",
    "        code-fold: true\n",
    "        code-overflow: wrap\n",
    "execute:\n",
    "    echo: true\n",
    "jupyter: python3\n",
    "\n",
    "crossref:\n",
    "  fig-prefix: fig.   # (default is \"Figure\")\n",
    "  tbl-prefix: tab.   # (default is \"Table\")\n",
    "  ref-hyperlink: true # (default is true)\n",
    "---"
   ]
  },
  {
   "cell_type": "code",
   "execution_count": 13,
   "id": "6eebd228-b41d-4aa7-ae5a-4416a970a878",
   "metadata": {
    "tags": []
   },
   "outputs": [],
   "source": [
    "#| echo: false\n",
    "#%run  \"../../src/Analysis_jupyter/dump_deliveries_analysis.ipynb\"\n"
   ]
  },
  {
   "cell_type": "raw",
   "id": "5156cc43-ea67-4236-ba31-f16152f4d341",
   "metadata": {},
   "source": [
    "# Abstract\n",
    "\n",
    "# Introduction\n",
    "The project seeks to minimize the costs of operation of the municipal solid waste management service in Blantyre Malawi. \n",
    "\n",
    "## Justification and Research Questions\n",
    "\n",
    "1. How can we model with limited data\n",
    "2. How many trucks are needed to service all skips? What would be the mileage and cost of servicing all skips without overflow?\n",
    "3. What routing schedule?\n",
    "\n",
    "# Data analysis\n",
    "In order to formulate feasible and pertinent recommendations, parameters reflecting the situation need to be calculated. Specifically, the rate at which bins are filling, so as to know the frequency at which they need to be emptied. \n",
    "\n",
    "## Provided data\n",
    "\n",
    "### Set of skips\n",
    "\n",
    "### Skips filling data\n"
   ]
  },
  {
   "cell_type": "markdown",
   "id": "ace4b25f-bd28-4ce7-a36c-1e992a18bad8",
   "metadata": {
    "tags": []
   },
   "source": [
    "Filling data for a number of skips is provided. Over a certain period of time (depending on the skip), a measurement on a scale from 1-5 was taken visually every day (generally). A score between 0 and 4 indicate the estimated fullness of the skip, while a 5 means the skip was overflowing. Three of these are shown in @fig-raw. @Fig-Naizi_inorganic_1_raw shows an ideal profile for data extraction. There are not too many spikes, the ramps are discernible, and there is a good number of them to draw averages. @Fig-Bangwe_inorganic_1_raw presents a bigger challenge, as it is difficult to make out the difference between "
   ]
  },
  {
   "cell_type": "markdown",
   "id": "83547e14-b82c-4499-bf96-5767e5511096",
   "metadata": {
    "tags": []
   },
   "source": [
    "::: {#fig-raw layout=\"[[50,50],[50,50]]\"}\n",
    "\n",
    "![Naizi inorganic 1](../../src/Analysis_jupyter/figures/raw/Naizi_inorganic_1_raw.png){#fig-Naizi_inorganic_1_raw}\n",
    "\n",
    "![Bangwe inorganic 1](../../src/Analysis_jupyter/figures/raw/Bangwe_inorganic_1_raw.png){#fig-Bangwe_inorganic_1_raw}\n",
    "\n",
    "![Chigumula inorganic 2](../../src/Analysis_jupyter/figures/raw/Chigumula_inorganic_2_raw.png){#fig-Chigumula_inorganic_2_raw}\n",
    "\n",
    "![BCA inorganic 2](../../src/Analysis_jupyter/figures/raw/BCA_inorganic_2_raw.png){#fig-BCA_inorganic_2_raw}\n",
    "\n",
    "Types of raw data\n",
    "\n",
    ":::"
   ]
  },
  {
   "cell_type": "markdown",
   "id": "806a38d2-6d60-4711-b782-50a6e2dcf1b6",
   "metadata": {},
   "source": [
    "@Fig-raw  especially @fig-BCA_inorganic_2_raw"
   ]
  },
  {
   "cell_type": "raw",
   "id": "2a78a115-2bbb-4a09-bc64-8025fa62ce1f",
   "metadata": {},
   "source": [
    "### Mzedi arrivals\n",
    "\n",
    "\n",
    "# Model\n",
    "\n",
    "# Model optimization\n",
    "\n",
    "# Methods\n",
    "\n",
    "## Site selection\n",
    "\n",
    "## Sample Size\n",
    "\n",
    "## Ethics\n",
    "\n",
    "## Experimental Design\n",
    "\n",
    "### Experiment 1\n",
    "\n",
    "### Experiment 2\n",
    "\n",
    "# Results and Discussion\n",
    "\n",
    "## Discussion\n",
    "\n",
    "## Tables and Figures\n",
    "\n",
    "## Tables\n",
    "\n",
    "## Figures\n",
    "\n",
    "# Conclusions and Recommendations\n",
    "\n",
    "# References"
   ]
  }
 ],
 "metadata": {
  "kernelspec": {
   "display_name": "Python 3 (ipykernel)",
   "language": "python",
   "name": "python3"
  },
  "language_info": {
   "codemirror_mode": {
    "name": "ipython",
    "version": 3
   },
   "file_extension": ".py",
   "mimetype": "text/x-python",
   "name": "python",
   "nbconvert_exporter": "python",
   "pygments_lexer": "ipython3",
   "version": "3.9.1"
  }
 },
 "nbformat": 4,
 "nbformat_minor": 5
}
