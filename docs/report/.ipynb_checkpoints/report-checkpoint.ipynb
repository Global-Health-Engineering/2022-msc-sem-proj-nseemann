{
 "cells": [
  {
   "cell_type": "raw",
   "id": "3d14e404-c145-438e-8480-700c20486d4e",
   "metadata": {},
   "source": [
    "---\n",
    "title: Optimization of solid waste in Blantyre, Malawi\n",
    "author: Nicolas Seemann-Ricard \n",
    "format:\n",
    "    html:\n",
    "        toc: false\n",
    "        code-fold: true\n",
    "        code-overflow: wrap\n",
    "execute:\n",
    "    echo: true\n",
    "jupyter: python3\n",
    "\n",
    "crossref:\n",
    "  fig-prefix: fig.   # (default is \"Figure\")\n",
    "  tbl-prefix: tab.   # (default is \"Table\")\n",
    "  ref-hyperlink: true # (default is true)\n",
    "\n",
    "bibliography: ../references/semester_bibtex.bib\n",
    "csl: ../references/ieee.csl\n",
    "---"
   ]
  },
  {
   "cell_type": "code",
   "execution_count": 13,
   "id": "6eebd228-b41d-4aa7-ae5a-4416a970a878",
   "metadata": {
    "tags": []
   },
   "outputs": [],
   "source": [
    "#| echo: false\n",
    "#%run  \"../../src/Analysis_jupyter/dump_deliveries_analysis.ipynb\"\n"
   ]
  },
  {
   "cell_type": "raw",
   "id": "bce07468-6aec-4bc9-8ac7-35f04139a292",
   "metadata": {},
   "source": [
    "# Abstract\n",
    "\n",
    "# Introduction\n",
    "The project seeks to minimize the costs of operation of the municipal solid waste management service in Blantyre Malawi, while limiting overflowing of the communal skips. \n",
    "\n",
    "## Justification and Research Questions\n",
    "\n",
    "1. How can we model with limited data\n",
    "2. How many trucks are needed to service all skips? What would be the mileage and cost of servicing all skips without overflow?\n",
    "3. What routing schedule?\n",
    "\n",
    "# Data analysis\n",
    "In order to formulate feasible and pertinent recommendations, parameters reflecting the situation need to be calculated. Specifically, the rate at which bins are filling, so as to know the frequency at which they need to be emptied. \n",
    "\n",
    "## Provided data\n",
    "\n",
    "### Set of skip locations\n",
    "A set of skip, assumed to be all the community skips to be serviced in Blantyre, along with GPS coordinates is given. Each skip is 7m<sup>3</sup>. Some data points have the same name, when several skips are in the same area (e.g. three skips in the same market). It is unknown if more than one skip can be represented by one coordinate point. Furthermore, there is no information about the intended nature of the waste (organic or inorganic).  The locations of the municipal dump (Mzedi dump), the truck storage facility and the compost facility are also used. \n",
    "\n",
    "![Locations of skips, dump, compost facility and truck storage](../../src/GIS/QGIS_map/figures/skips_list.png){#fig-locations-skips}"
   ]
  },
  {
   "cell_type": "raw",
   "id": "6cfbef5f-1497-4d02-b5a6-4fd7f8527288",
   "metadata": {
    "tags": []
   },
   "source": [
    "### Skips filling data\n",
    "\n",
    "Filling data for a number of skips is provided. The time series are named in the following fashion: \"area+type of waste+number\". The names of the areas do not always match the ones from the set of skip locations, in addition to the ambiguity of several skips present in a certain area. The type of waste also complicates the analysis.\n",
    "\n",
    "Over a certain period of time (depending on the skip), a measurement on a scale from 1-5 was taken visually (generally) every day at some skips. A score between 0 and 4 indicate the estimated fullness of the skip, while a 5 means the skip was overflowing. Four of these are shown in @fig-raw. @Fig-Naizi_inorganic_1_raw seems to be an ideal profile for data extraction. There are not too many spikes (taken as measurement errors), the ramps are discernible, and there is a good number of them to draw averages. @Fig-Bangwe_inorganic_1_raw presents a bigger challenge, as it is difficult to make out the difference between measurement errors (outliers) and very fast filling of the skip. @Fig-Chigumula_inorganic_2_raw is a timeseries from which filling rates cannot be extracted. Finally, @fig-BCA_inorganic_2_raw only has one useful ramp, from which a filling rate can be computed. "
   ]
  },
  {
   "cell_type": "raw",
   "id": "b51188e3-80dc-417e-9212-1a2e279776ce",
   "metadata": {
    "tags": []
   },
   "source": [
    "::: {#fig-raw layout=\"[[50,50],[50,50]]\"}\n",
    "\n",
    "![Naizi inorganic 1](../../src/Analysis_jupyter/figures/raw/Naizi_inorganic_1_raw.png){#fig-Naizi_inorganic_1_raw}\n",
    "\n",
    "![Bangwe inorganic 1](../../src/Analysis_jupyter/figures/raw/Bangwe_inorganic_1_raw.png){#fig-Bangwe_inorganic_1_raw}\n",
    "\n",
    "![Chigumula inorganic 2](../../src/Analysis_jupyter/figures/raw/Chigumula_inorganic_2_raw.png){#fig-Chigumula_inorganic_2_raw}\n",
    "\n",
    "![BCA inorganic 2](../../src/Analysis_jupyter/figures/raw/BCA_inorganic_2_raw.png){#fig-BCA_inorganic_2_raw}\n",
    "\n",
    "Typical skip filling time series\n",
    "\n",
    ":::"
   ]
  },
  {
   "cell_type": "raw",
   "id": "1a0c002b-1171-4432-bbc5-7c3e534355f3",
   "metadata": {},
   "source": [
    "### Dump arrivals log\n",
    "A separate time series is provided. It lists arrivals at the Mzedi dump, along with the origin of the skip carried by each truck. The origins match exactly the set of skip locations. The period of this series is 2020-12-05 to 2021-12-31. The sum of arrivals in each week during this period is shown in @fig-mzedi_arrivals. A sizeable gap is noticeable for almost the whole of February 2021. This is reflected in the skips filling data, where many skips were overflowing and not emptied during this period. The reason for this gap is unknown, but assumed here to be the service simply not operating. \n",
    "\n",
    "![Mzedi arrivals](../../src/Analysis_jupyter/figures/mzedi/weekly_arrivals.png){#fig-mzedi_arrivals}"
   ]
  },
  {
   "cell_type": "raw",
   "id": "75009483-e8c7-4078-8bad-7ad5637cc68a",
   "metadata": {},
   "source": [
    "## Data analysis\n",
    "### Skips filling data\n",
    "The filling data from individual skips is used to extract an estimated filling rates. To do this, an algorithm is used to fit ramps onto the raw data. The slope of these ramps gives the filling rate, which will be useful in determining the frequency of service. Here, the algorithm is shown for the skip named Naizi Inorganic 1. \n",
    "The algorithm performs a series of forward and backward passes, iterating through the time series data sequentially. \n",
    "\n",
    "#### 1. Removal of erroneous measurements\n",
    "In this case, erroneous measurements are quick (upward or downward) spikes that return to the original value. In most series, those spikes interrupt ramps or can be seen in periods of overflow. As the source of these spiking events are unknown, they are assumed to be measurement/recording errors. \n",
    "\n",
    "#### 2. Ramp tops detection\n",
    "Since a level 5 encompasses a wide range of quantity of waste, ramps ending in level 4 offer more precision. As such, when a rising trend reaches level 4, the ramp is ended at this point. However, if it skips level 4, the ramp continues to level 5. \n",
    "\n",
    "The following code blocks show the forward pass, which detects the top of ramps, as well as the backward pass, which brings those top points to the earliest point at which this level occured. This forward/backward approach has the advantage that it can include levels other than 4 and 5 as top levels i.e. it detects if the skip is emptied at 3. "
   ]
  },
  {
   "cell_type": "raw",
   "id": "8a9cdc6e-dbe3-438c-ab16-32253c05c26a",
   "metadata": {},
   "source": [
    "<u>Forward pass:</u>\n",
    "```\n",
    "BEGIN \n",
    "INITIALIZE t=0;dt=0\n",
    "WHILE t < T:\n",
    "    WHILE t + dt < T:\n",
    "        IF L(t+dt+1) >= L(t+dt):\n",
    "            IF L(t+dt) == 4 AND L(t+dt+1) == 5\n",
    "                ADD to top_ends\n",
    "                t = next decreasing level date\n",
    "                BREAK\n",
    "            ELSE:\n",
    "                dt++\n",
    "            END IF\n",
    "        ELSE:\n",
    "            ADD to top_ends\n",
    "            t = t+dt+1\n",
    "            BREAK\n",
    "        END IF\n",
    "    END WHILE\n",
    "END WHILE\n",
    "END\n",
    "```"
   ]
  },
  {
   "cell_type": "raw",
   "id": "66cc5d5c-ca94-4cc9-abb3-63255c573b01",
   "metadata": {},
   "source": [
    "<u>Backward pass:</u>\n",
    "```\n",
    "BEGIN \n",
    "    INITIALIZE t=T; dt=0\n",
    "    FOR EACH t in top_ends:\n",
    "        WHILE t - dt - 1 > 0:\n",
    "            IF L(t-dt-1) < L(t-dt):\n",
    "                ADD to top_beginnings\n",
    "                BREAK\n",
    "            ELSE:\n",
    "                dt++\n",
    "            END IF\n",
    "        END WHILE\n",
    "    END FOR\n",
    "END\n",
    "```"
   ]
  },
  {
   "cell_type": "code",
   "execution_count": null,
   "id": "1b035986-654d-4b7a-b255-145d854c598f",
   "metadata": {},
   "outputs": [],
   "source": []
  },
  {
   "cell_type": "raw",
   "id": "a3399983-0374-4906-bb1e-23c9fb7d36ac",
   "metadata": {},
   "source": [
    "#### 3. Removal of derating periods\n",
    "Next, an effect is observed, whereby a \"derating\" occurs. This can be seen when the level is at 5, then it drops to 4 for a certain period, then climbs up to 5 again. This might occur for several reasons (non exhaustive list):\n",
    "\n",
    "* Trash being burned to eliminate the overflowing waste\n",
    "* Waste being cleaned up by another entity\n",
    "* An error in data collection\n",
    "\n",
    "The top values at the end of derating periods are removed in the backward pass above."
   ]
  },
  {
   "cell_type": "raw",
   "id": "f1d5c9e0-f120-4ae8-bdc8-3244840b7420",
   "metadata": {},
   "source": [
    "#### 4. Ramp bottoms detection\n",
    "Finally, the bottom values of each ramp is found by walking back from each top until a point where the next increases again. This point is assumed to be the next day after the skip was serviced, and after which the skip begins filling up again. The algorithm is:"
   ]
  },
  {
   "cell_type": "raw",
   "id": "b875ec5b-cac3-4ce0-9d9d-3dbad186680f",
   "metadata": {},
   "source": [
    "```\n",
    "BEGIN \n",
    "    INITIALIZE t=T; dt=0\n",
    "    FOR EACH top_beginnings_no_derating:\n",
    "        WHILE t - dt > 0:\n",
    "            IF L(t-dt-1) > L(t-dt):\n",
    "                ADD to bottom_beginnings\n",
    "                BREAK\n",
    "            ELSE:\n",
    "                dt++\n",
    "            END IF\n",
    "        END WHILE\n",
    "    END FOR\n",
    "END\n",
    "```\n"
   ]
  },
  {
   "cell_type": "raw",
   "id": "ac35eebe-e6c4-454f-ac82-f90ff1394d7e",
   "metadata": {},
   "source": [
    "#### Results\n",
    "The following figures illustrate the output of the method for Naizi inorganic 1, Bangwe inorganic 1 & 2. While clear ramps are easily detected, in the case of Bangwe, it is difficult to discern spikes and quickly increasing waste levels. Therefore, the extracted filling rates (the slope of the ramps), are seen as a minimum value of the filling rate. "
   ]
  },
  {
   "cell_type": "raw",
   "id": "0c06f336-ca4a-4284-b9fb-8290dcc18d05",
   "metadata": {},
   "source": [
    "![Ramps for Naizi inorganic 1](../../src/Analysis_jupyter/figures/ramps/Naizi_inorganic_1_ramps.png){#fig-Naizi_inorganic_1_ramps width=80%}\n",
    "\n",
    "![Ramps for Bangwe inorganic 1](../../src/Analysis_jupyter/figures/ramps/Bangwe_inorganic_1_ramps.png){#fig-Bangwe_inorganic_1_ramps width=80%}\n",
    "\n",
    "![Ramps for Bangwe inorganic 2](../../src/Analysis_jupyter/figures/ramps/Bangwe_inorganic_2_ramps.png){#fig-Bangwe_inorganic_2_ramps width=80%}"
   ]
  },
  {
   "cell_type": "markdown",
   "id": "a919ac89-16d4-4b9e-aec1-faee7a762161",
   "metadata": {},
   "source": [
    "{{< pagebreak >}}\n",
    "\n",
    "| Skip | Average filling rate (bin/day) | Number of ramps | Proportion of days overfull |\n",
    "|----|----|---|----|\n",
    "|Bangwe_Organic_1|0.215|24|0.258|\n",
    "|Bangwe_Organic_2|N/A|N/A|N/A|\n",
    "|Bangwe_inorganic_1|0.490|23|0.725|\n",
    "|Bangwe_inorganic_2|0.400|16|0.737|\n",
    "|BCA_Organic_1|0.091|11|0.386|\n",
    "|BCA_Organic_2|0.077|2|0.0|\n",
    "|BCA_inorganic_1|0.063|6|0.535|\n",
    "|BCA_inorganic_2|0.038|1|0.627|\n",
    "|Naizi_Organic_1|0.046|8|0.210|\n",
    "|Naizi_Organic_2|N/A|N/A|N/A|\n",
    "|Naizi_inorganic_1|0.144|15|0.293|\n",
    "|Naizi_inorganic_2|N/A|N/A|N/A|\n",
    "|Chigumula_Organic_1|0.158|21|0.183|\n",
    "|Chigumula_Organic_2|0.127|13|0.106|\n",
    "|Chigumula_inorganic_1|0.056|4|0.256|\n",
    "|Chigumula_inorganic_2|N/A|N/A|N/A|\n",
    "\n",
    "\n",
    ": Summary of extracted filling rates. Bangwe_Organic_2, Naizi_Organic_2, Naizi_inorganic_2 and Chigumula_inorganic_2, Bangwe_Organic_2 are incomplete (either no values or just one erroneous ramp), and are therefore removed.  {#tbl-ramps}"
   ]
  },
  {
   "cell_type": "raw",
   "id": "f78128f2-16f3-4729-a585-7363672ce4a6",
   "metadata": {},
   "source": [
    "\n"
   ]
  },
  {
   "cell_type": "raw",
   "id": "7c7f0576-cf76-4751-9052-23baa9626479",
   "metadata": {},
   "source": [
    "### Dump arrival logs\n",
    "As shown in @fig-mzedi_arrivals, the number of arrivals of skips at Mzedi dump vary heavily from week to week. This indicates "
   ]
  },
  {
   "cell_type": "raw",
   "id": "36972b34-c577-458d-8222-9dad8cecd922",
   "metadata": {},
   "source": [
    "# Model\n",
    "The model is deterministic, based on the estimated rates of filling of the skips. It is a cost minimization mixed integer program. "
   ]
  }
 ],
 "metadata": {
  "kernelspec": {
   "display_name": "Python 3 (ipykernel)",
   "language": "python",
   "name": "python3"
  },
  "language_info": {
   "codemirror_mode": {
    "name": "ipython",
    "version": 3
   },
   "file_extension": ".py",
   "mimetype": "text/x-python",
   "name": "python",
   "nbconvert_exporter": "python",
   "pygments_lexer": "ipython3",
   "version": "3.9.1"
  }
 },
 "nbformat": 4,
 "nbformat_minor": 5
}
