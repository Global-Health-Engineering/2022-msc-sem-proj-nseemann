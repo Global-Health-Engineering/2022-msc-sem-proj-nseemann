{
 "cells": [
  {
   "cell_type": "raw",
   "id": "3d14e404-c145-438e-8480-700c20486d4e",
   "metadata": {},
   "source": [
    "---\n",
    "title: Optimization of solid waste in Blantyre, Malawi\n",
    "author: Nicolas Seemann-Ricard \n",
    "format:\n",
    "    html:\n",
    "        toc: false\n",
    "        code-fold: true\n",
    "        code-overflow: wrap\n",
    "execute:\n",
    "    echo: true\n",
    "jupyter: python3\n",
    "\n",
    "crossref:\n",
    "  fig-prefix: fig.   # (default is \"Figure\")\n",
    "  tbl-prefix: tab.   # (default is \"Table\")\n",
    "  ref-hyperlink: true # (default is true)\n",
    "\n",
    "bibliography: ../references/semester_bibtex.bib\n",
    "csl: ../references/ieee.csl\n",
    "---"
   ]
  },
  {
   "cell_type": "code",
   "execution_count": 13,
   "id": "6eebd228-b41d-4aa7-ae5a-4416a970a878",
   "metadata": {
    "tags": []
   },
   "outputs": [],
   "source": [
    "#| echo: false\n",
    "#%run  \"../../src/Analysis_jupyter/dump_deliveries_analysis.ipynb\"\n"
   ]
  },
  {
   "cell_type": "raw",
   "id": "bce07468-6aec-4bc9-8ac7-35f04139a292",
   "metadata": {},
   "source": [
    "# Abstract\n",
    "\n",
    "# Introduction\n",
    "The project seeks to minimize the costs of operation of the municipal solid waste management service in Blantyre Malawi, while limiting overflowing of the communal skips. \n",
    "\n",
    "## Justification and Research Questions\n",
    "\n",
    "1. How can we model with limited data\n",
    "2. How many trucks are needed to service all skips? What would be the mileage and cost of servicing all skips without overflow?\n",
    "3. What routing schedule?\n",
    "\n",
    "# Data analysis\n",
    "In order to formulate feasible and pertinent recommendations, parameters reflecting the situation need to be calculated. Specifically, the rate at which bins are filling, so as to know the frequency at which they need to be emptied. \n",
    "\n",
    "## Provided data\n",
    "\n",
    "### Set of skip locations\n",
    "A set of skip, assumed to be all the community skips to be serviced in Blantyre, along with GPS coordinates is given. Each skip is 7m<sup>3</sup>. Some data points have the same name, when several skips are in the same area (e.g. three skips in the same market). It is unknown if more than one skip can be represented by one coordinate point. Furthermore, there is no information about the intended nature of the waste (organic or inorganic).  The locations of the municipal dump (Mzedi dump), the truck storage facility and the compost facility are also used. \n",
    "\n",
    "![Locations of skips, dump, compost facility and truck storage](../../src/GIS/QGIS_map/figures/skips_list.png){#fig-locations-skips}"
   ]
  },
  {
   "cell_type": "raw",
   "id": "6cfbef5f-1497-4d02-b5a6-4fd7f8527288",
   "metadata": {
    "tags": []
   },
   "source": [
    "### Skips filling data\n",
    "\n",
    "Filling data for a number of skips is provided. The time series are named in the following fashion: \"area+type of waste+number\". The names of the areas do not always match the ones from the set of skip locations, in addition to the ambiguity of several skips present in a certain area. The type of waste also complicates the analysis.\n",
    "\n",
    "Over a certain period of time (depending on the skip), a measurement on a scale from 1-5 was taken visually (generally) every day at some skips. A score between 0 and 4 indicate the estimated fullness of the skip, while a 5 means the skip was overflowing. Four of these are shown in @fig-raw. @Fig-Naizi_inorganic_1_raw seems to be an ideal profile for data extraction. There are not too many spikes (taken as measurement errors), the ramps are discernible, and there is a good number of them to draw averages. @Fig-Bangwe_inorganic_1_raw presents a bigger challenge, as it is difficult to make out the difference between measurement errors (outliers) and very fast filling of the skip. @Fig-Chigumula_inorganic_2_raw is a timeseries from which filling rates cannot be extracted. Finally, @fig-BCA_inorganic_2_raw only has one useful ramp, from which a filling rate can be computed. "
   ]
  },
  {
   "cell_type": "raw",
   "id": "b51188e3-80dc-417e-9212-1a2e279776ce",
   "metadata": {
    "tags": []
   },
   "source": [
    "::: {#fig-raw layout=\"[[50,50],[50,50]]\"}\n",
    "\n",
    "![Naizi inorganic 1](../../src/Analysis_jupyter/figures/raw/Naizi_inorganic_1_raw.png){#fig-Naizi_inorganic_1_raw}\n",
    "\n",
    "![Bangwe inorganic 1](../../src/Analysis_jupyter/figures/raw/Bangwe_inorganic_1_raw.png){#fig-Bangwe_inorganic_1_raw}\n",
    "\n",
    "![Chigumula inorganic 2](../../src/Analysis_jupyter/figures/raw/Chigumula_inorganic_2_raw.png){#fig-Chigumula_inorganic_2_raw}\n",
    "\n",
    "![BCA inorganic 2](../../src/Analysis_jupyter/figures/raw/BCA_inorganic_2_raw.png){#fig-BCA_inorganic_2_raw}\n",
    "\n",
    "Typical skip filling time series\n",
    "\n",
    ":::"
   ]
  },
  {
   "cell_type": "raw",
   "id": "1a0c002b-1171-4432-bbc5-7c3e534355f3",
   "metadata": {},
   "source": [
    "### Dump arrivals log\n",
    "A separate time series is provided. It lists arrivals at the Mzedi dump, along with the origin of the skip carried by each truck. The period of this series is 2020-12-05 to 2021-12-31. The sum of arrivals in each week during this period is shown in @fig-mzedi_arrivals. A sizeable gap is noticeable for almost the whole of February 2021. This is reflected in the skips filling data, where many skips were overflowing and not emptied during this period. The reason for this gap is unknown. \n",
    "\n",
    "![Mzedi arrivals](../../src/Analysis_jupyter/figures/mzedi/weekly_arrivals.png){#fig-mzedi_arrivals}"
   ]
  },
  {
   "cell_type": "raw",
   "id": "dc01354c-02fb-4d0e-9173-2f2b5b23a81c",
   "metadata": {},
   "source": [
    "## Data analysis\n",
    "### Skips filling data\n",
    "The filling data from individual skips is used to extract an estimated filling rates. To do this, an algorithm is used to fit ramps onto the raw data. Here, the algorithm is shown for the skip named Naizi Inorganic 1. \n",
    "\n",
    "#### 1. Removal of erroneous measurements\n",
    "In this case, erroneous measurements are quick upward (or downward) spikes that return to the original value. In most series, those spikes interrupt ramps or can be seen in periods of overflow and cannot presently be explained by another event. \n",
    "\n",
    "#### 2. asdlkja\n"
   ]
  },
  {
   "cell_type": "raw",
   "id": "36972b34-c577-458d-8222-9dad8cecd922",
   "metadata": {},
   "source": [
    "# Model\n",
    "\n",
    "# Model optimization\n",
    "\n",
    "# Methods\n",
    "\n",
    "## Site selection\n",
    "\n",
    "## Sample Size\n",
    "\n",
    "## Ethics\n",
    "\n",
    "## Experimental Design\n",
    "\n",
    "### Experiment 1\n",
    "\n",
    "### Experiment 2\n",
    "\n",
    "# Results and Discussion\n",
    "\n",
    "## Discussion\n",
    "\n",
    "## Tables and Figures\n",
    "\n",
    "## Tables\n",
    "\n",
    "## Figures\n",
    "\n",
    "# Conclusions and Recommendations\n",
    "\n",
    "# References"
   ]
  }
 ],
 "metadata": {
  "kernelspec": {
   "display_name": "Python 3 (ipykernel)",
   "language": "python",
   "name": "python3"
  },
  "language_info": {
   "codemirror_mode": {
    "name": "ipython",
    "version": 3
   },
   "file_extension": ".py",
   "mimetype": "text/x-python",
   "name": "python",
   "nbconvert_exporter": "python",
   "pygments_lexer": "ipython3",
   "version": "3.9.1"
  }
 },
 "nbformat": 4,
 "nbformat_minor": 5
}
