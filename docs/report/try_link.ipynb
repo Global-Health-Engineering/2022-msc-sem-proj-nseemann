{
 "cells": [
  {
   "cell_type": "raw",
   "id": "cf23010d-9244-4648-b025-12e55077c056",
   "metadata": {},
   "source": [
    "---\n",
    "header-includes:\n",
    "  - \\usepackage[ruled,vlined,linesnumbered]{algorithm2e}\n",
    "---\n"
   ]
  },
  {
   "cell_type": "markdown",
   "id": "73627d6e-82fe-4f35-842a-0f5c63798736",
   "metadata": {},
   "source": [
    "<div style=\"background-color:rgba(0, 0, 0, 0.0470588); padding:10px 0;font-family:monospace;\">\n",
    "This is <font color = \"red\">pseudocode</font><br>\n",
    "&nbsp;&nbsp;&nbsp;&nbsp; More pseudocode <font color = \"orange\" over</font> there.\n",
    "</div>"
   ]
  }
 ],
 "metadata": {
  "kernelspec": {
   "display_name": "Python 3 (ipykernel)",
   "language": "python",
   "name": "python3"
  },
  "language_info": {
   "codemirror_mode": {
    "name": "ipython",
    "version": 3
   },
   "file_extension": ".py",
   "mimetype": "text/x-python",
   "name": "python",
   "nbconvert_exporter": "python",
   "pygments_lexer": "ipython3",
   "version": "3.9.1"
  }
 },
 "nbformat": 4,
 "nbformat_minor": 5
}
