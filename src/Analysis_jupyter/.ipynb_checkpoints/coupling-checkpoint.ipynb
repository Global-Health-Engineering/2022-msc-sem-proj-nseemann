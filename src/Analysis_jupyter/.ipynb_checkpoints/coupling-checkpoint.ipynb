{
 "cells": [
  {
   "cell_type": "code",
   "execution_count": 2,
   "id": "62da19bd-6bad-4491-ab64-8bdfe6a6f609",
   "metadata": {},
   "outputs": [],
   "source": [
    "#| echo: true\n",
    "import numpy as np\n",
    "import pandas as pd\n",
    "import matplotlib.pyplot as plt\n",
    "import matplotlib.dates as mdates\n",
    "import statistics\n",
    "\n",
    "from scipy.stats import lognorm\n",
    "from scipy import stats\n",
    "\n",
    "import random\n",
    "\n",
    "\n",
    "#filtered_skip_deliveries_at_Mzedi = pd.read_csv('../../data/interm_data/filtered_skip_deliveries_at_Mzedi.csv')\n",
    "mzedi_entry_skip_data_stats = pd.read_csv('../../data/interm_data/mzedi_entry_skip_data_stats.csv')\n",
    "mzedi_entry_skip_data_stats=mzedi_entry_skip_data_stats.set_index(mzedi_entry_skip_data_stats.columns[0])\n",
    "mzedi_entry_skip_data_stats.index = mzedi_entry_skip_data_stats.index.rename('')\n",
    "mzedi_entry_skip_data_stats.dropna(inplace=True)\n",
    "#mzedi_entry_skip_data_stats.Q1.to_csv('Q1_vals.csv')\n",
    "\n",
    "\n",
    "ramping_data = pd.read_csv('../../data/interm_data/ramping_data.csv')\n",
    "ramping_data=ramping_data.set_index(ramping_data.columns[0])\n",
    "ramping_data.index = ramping_data.index.rename('')\n",
    "ramping_data.dropna(inplace=True)\n",
    "\n",
    "\n"
   ]
  },
  {
   "cell_type": "code",
   "execution_count": 9,
   "id": "ca6e7cd8-51b2-43bf-89ea-584ad02488cd",
   "metadata": {},
   "outputs": [],
   "source": [
    "skips = pd.read_csv('../../data/raw_data/public-waste-skips-blantyre-malawi.csv')\n",
    "skips_list = pd.read_csv('../../data/interm_data/skips_indexing.csv')"
   ]
  },
  {
   "cell_type": "code",
   "execution_count": 10,
   "id": "3c56a544-831a-405e-b060-8f605e322fc4",
   "metadata": {},
   "outputs": [
    {
     "name": "stderr",
     "output_type": "stream",
     "text": [
      "C:\\Users\\Nicolas Seemann\\AppData\\Local\\Temp\\ipykernel_28400\\1327937652.py:3: SettingWithCopyWarning: \n",
      "A value is trying to be set on a copy of a slice from a DataFrame\n",
      "\n",
      "See the caveats in the documentation: https://pandas.pydata.org/pandas-docs/stable/user_guide/indexing.html#returning-a-view-versus-a-copy\n",
      "  skips.num_in_area[skips.Name == skip_area] = skips.Name.to_list().count(skip_area)\n"
     ]
    }
   ],
   "source": [
    "skips.insert(0,'num_in_area', np.zeros(len(skips)))\n",
    "for skip_area in skips.Name.unique():\n",
    "    skips.num_in_area[skips.Name == skip_area] = skips.Name.to_list().count(skip_area)\n",
    "skips\n",
    "\n",
    "number_of = skips.drop_duplicates(subset = ['Name']).drop(['long','lat','capacity'], axis = 1).set_index('Name')\n",
    "\n",
    "# Join, and NAs are assumed to only have 1\n",
    "Q1_num = number_of.join(mzedi_entry_skip_data_stats[['Q1']])\n",
    "Q1_rates_num = Q1_num.copy()\n",
    "Q1_rates_num.Q1 = 1/(Q1_rates_num.Q1*Q1_rates_num.num_in_area)\n",
    "\n",
    "filling_rates_estimates = (skips_list[['Name','bin_ID']].set_index('Name').join(Q1_rates_num).sort_values('bin_ID'))"
   ]
  },
  {
   "cell_type": "code",
   "execution_count": 21,
   "id": "470c57d9-437f-4511-97ab-c620da8fece1",
   "metadata": {},
   "outputs": [
    {
     "data": {
      "text/plain": [
       "Series([], Name: Q1, dtype: float64)"
      ]
     },
     "execution_count": 21,
     "metadata": {},
     "output_type": "execute_result"
    }
   ],
   "source": [
    "filling_rates_estimates.Q1[filling_rates_estimates.Q1 != \"NaN\"]"
   ]
  },
  {
   "cell_type": "code",
   "execution_count": 134,
   "id": "78e16c04-9d85-4208-9a81-d94ce2700be2",
   "metadata": {},
   "outputs": [],
   "source": [
    "# Bangwe: 0.6535 IDs: 11,12,13,14,15\n",
    "# BCA: 0.0505 IDs: 25,26,27\n",
    "# Naizi: 0.144 IDs: 3,10 \n",
    "# Chigumula: 0.056 IDs:  23,24,28\n",
    "filling_rates_estimates.loc[filling_rates_estimates[\"bin_ID\"].isin([11,12,13,14,15]), 'Q1']= 0.6535\n",
    "filling_rates_estimates.loc[filling_rates_estimates[\"bin_ID\"].isin([25,26,27]), 'Q1']= 0.0505\n",
    "filling_rates_estimates.loc[filling_rates_estimates[\"bin_ID\"].isin([3,10]), 'Q1']= 0.144\n",
    "filling_rates_estimates.loc[filling_rates_estimates[\"bin_ID\"].isin([23,24,28]), 'Q1']= 0.056"
   ]
  },
  {
   "cell_type": "code",
   "execution_count": 135,
   "id": "fdb5f9e4-e010-4272-83df-e35146b7fb25",
   "metadata": {},
   "outputs": [],
   "source": [
    "filling_rates_estimates.to_csv('../../data/interm_data/skips_indexed_filling_estimates.csv')"
   ]
  }
 ],
 "metadata": {
  "kernelspec": {
   "display_name": "Python 3 (ipykernel)",
   "language": "python",
   "name": "python3"
  },
  "language_info": {
   "codemirror_mode": {
    "name": "ipython",
    "version": 3
   },
   "file_extension": ".py",
   "mimetype": "text/x-python",
   "name": "python",
   "nbconvert_exporter": "python",
   "pygments_lexer": "ipython3",
   "version": "3.9.1"
  }
 },
 "nbformat": 4,
 "nbformat_minor": 5
}
