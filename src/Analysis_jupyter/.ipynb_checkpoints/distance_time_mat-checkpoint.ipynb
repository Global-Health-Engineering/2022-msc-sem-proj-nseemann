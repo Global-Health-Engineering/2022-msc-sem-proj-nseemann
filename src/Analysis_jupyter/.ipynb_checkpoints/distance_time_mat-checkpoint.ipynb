{
 "cells": [
  {
   "cell_type": "code",
   "execution_count": 21,
   "id": "b219c55a-7d6d-4e85-81ba-a8288dc5e0a1",
   "metadata": {},
   "outputs": [
    {
     "name": "stdout",
     "output_type": "stream",
     "text": [
      "                       Name  bin_ID\n",
      "0           Ndirande ground       1\n",
      "1      Chimwankhunda mosque       2\n",
      "2              Naizi market       3\n",
      "3         Machinjiri market       4\n",
      "4        South Lunzu market       5\n",
      "5              Khama market       6\n",
      "6          Nkolokoti market       7\n",
      "7            Kachere market       8\n",
      "8            Kachere market       9\n",
      "9              Naizi market      10\n",
      "10            Bangwe market      11\n",
      "11            Bangwe market      12\n",
      "12            Bangwe market      13\n",
      "13            Bangwe ground      14\n",
      "14            Bangwe ground      15\n",
      "15        Limbe flea market      16\n",
      "16             Limbe market      17\n",
      "17          Limbe Hard Ware      18\n",
      "18             Limbe market      19\n",
      "19     Pafumbi bus terminal      20\n",
      "20                 Likotima      21\n",
      "21                    I.T.G      22\n",
      "22                Chigumula      23\n",
      "23                Chigumula      24\n",
      "24               BCA market      25\n",
      "25               BCA market      26\n",
      "26               BCA market      27\n",
      "27                Chigumula      28\n",
      "28          Ndirande ground      29\n",
      "29          Ndirande market      30\n",
      "30      Kameza round a bout      31\n",
      "31          Chirimba market      32\n",
      "32          Chirimba market      33\n",
      "33                  Chiweto      34\n",
      "34           Chemusa market      35\n",
      "35                  Kayange      36\n",
      "36           Mbayani market      37\n",
      "37                 Mbwerela      38\n",
      "38         Chilomoni market      39\n",
      "39                    Fargo      40\n",
      "40           Nthukwa market      41\n",
      "41     Blantyre flea market      42\n",
      "42     Mibawa Bus terminals      43\n",
      "43          Blantyre market      44\n",
      "44                 Malekano      45\n",
      "45            Manase Market      46\n",
      "46                 Chilobwe      47\n",
      "47           Thawale market      48\n",
      "48   Zingwangwa water board      49\n",
      "49        Zingwangwa mosque      50\n",
      "50             Soche market      51\n",
      "51      Wenela Bus terminal      52\n",
      "52  Queens Guardian shelter      53\n",
      "53               Mzedi dump      54\n",
      "54         Limbe Composting      55\n",
      "55      Storage city center      56\n"
     ]
    }
   ],
   "source": [
    "import numpy as np\n",
    "import pandas as pd\n",
    "import matplotlib.pyplot as plt\n",
    "import matplotlib.dates as mdates\n",
    "import statistics\n",
    "\n",
    "\n",
    "skips_list = pd.read_csv('../../data/interm_data/skips_indexing.csv')\n",
    "print(skips_list[['Name','bin_ID']])\n",
    "\n",
    "skips_matrix_ID = pd.read_csv('../../data/interm_data/dist_matrix_ID.csv')\n",
    "skips_matrix_ID[['FROM_ID','TO_ID','DIST_KM']].to_csv('../../data/interm_data/dist_matrix_ID_filtered.csv', index=False)\n",
    "\n"
   ]
  },
  {
   "cell_type": "code",
   "execution_count": null,
   "id": "7601c2fe-95eb-4bab-b716-67e2801d86bc",
   "metadata": {},
   "outputs": [],
   "source": []
  }
 ],
 "metadata": {
  "kernelspec": {
   "display_name": "Python 3 (ipykernel)",
   "language": "python",
   "name": "python3"
  },
  "language_info": {
   "codemirror_mode": {
    "name": "ipython",
    "version": 3
   },
   "file_extension": ".py",
   "mimetype": "text/x-python",
   "name": "python",
   "nbconvert_exporter": "python",
   "pygments_lexer": "ipython3",
   "version": "3.9.1"
  }
 },
 "nbformat": 4,
 "nbformat_minor": 5
}
