{
 "cells": [
  {
   "cell_type": "code",
   "execution_count": 1,
   "id": "211acb15-c72a-43f7-81ce-9fe68482585b",
   "metadata": {},
   "outputs": [],
   "source": [
    "import numpy as np\n",
    "import pandas as pd\n",
    "import matplotlib.pyplot as plt\n",
    "import matplotlib.dates as mdates\n",
    "import statistics\n",
    "import pandas as pd\n",
    "\n",
    "km_cost = 384\n",
    "period_op_cost = 5400\n",
    "dump_ind = 54\n",
    "depot_ind = 56\n",
    "\n",
    "skips_list = pd.read_csv('../../data/interm_data/skips_indexing.csv')\n",
    "\n",
    "dump_arrival = pd.read_csv('../../data/interm_data/filtered_skip_deliveries_at_Mzedi.csv')\n",
    "dump_arrival = dump_arrival.drop(columns=['end','deviceid', 'start','emptier type']).sort_values('date')\n",
    "dump_arrival\n",
    "\n",
    "distances = pd.read_csv('../../data/interm_data/dist_matrix_ID_filtered.csv')\n",
    "\n",
    "#List of origin points\n",
    "max_min = 1 #1 if max, 0 if min\n",
    "list_origin = dump_arrival.skip_origin.unique().astype(str)"
   ]
  },
  {
   "cell_type": "code",
   "execution_count": 271,
   "id": "48f697e0-63b0-4e0c-af48-76b906247368",
   "metadata": {},
   "outputs": [
    {
     "name": "stderr",
     "output_type": "stream",
     "text": [
      "C:\\Users\\Nicolas Seemann\\AppData\\Local\\Temp\\ipykernel_18240\\1588882571.py:11: SettingWithCopyWarning: \n",
      "A value is trying to be set on a copy of a slice from a DataFrame\n",
      "\n",
      "See the caveats in the documentation: https://pandas.pydata.org/pandas-docs/stable/user_guide/indexing.html#returning-a-view-versus-a-copy\n",
      "  dump_arrival.mean_dist_trav[dump_arrival.mean_dist_trav.isna()] = tot_dist/n\n"
     ]
    }
   ],
   "source": [
    "n = 0\n",
    "tot_dist = 0\n",
    "for i in dump_arrival.index:\n",
    "    current_IDs = skips_list[skips_list.Name == dump_arrival['skip_origin'][i]].bin_ID.to_list()\n",
    "    if len(current_IDs) != 0:\n",
    "        current_dist = sum(distances.loc[((distances['FROM_ID'].isin(current_IDs)) & (distances['TO_ID'] == dump_ind)) | ((distances['TO_ID'].isin(current_IDs)) & (distances['FROM_ID'] == dump_ind))].DIST_KM.to_list())/len(current_IDs)\n",
    "        dump_arrival.at[i,'mean_dist_trav'] = current_dist\n",
    "        n = n+1\n",
    "        tot_dist = tot_dist + current_dist\n",
    "    \n",
    "dump_arrival.mean_dist_trav[dump_arrival.mean_dist_trav.isna()] = tot_dist/n     "
   ]
  },
  {
   "cell_type": "code",
   "execution_count": 272,
   "id": "d6f0760f-045b-46dd-b986-0efab5bd728d",
   "metadata": {},
   "outputs": [],
   "source": [
    "dump_back_forth_dist = sum(distances.loc[((distances['FROM_ID']== depot_ind) & (distances['TO_ID'] == dump_ind)) | ((distances['FROM_ID']== dump_ind) & (distances['TO_ID'] == depot_ind))].DIST_KM.to_list())"
   ]
  },
  {
   "cell_type": "code",
   "execution_count": 281,
   "id": "6799d9b3-5c19-42d4-9384-1614314b306f",
   "metadata": {},
   "outputs": [
    {
     "data": {
      "text/plain": [
       "21.25087"
      ]
     },
     "execution_count": 281,
     "metadata": {},
     "output_type": "execute_result"
    }
   ],
   "source": [
    "dump_back_forth_dist"
   ]
  },
  {
   "cell_type": "code",
   "execution_count": 284,
   "id": "4b139d3b-db0b-4c1d-b599-05cbb523e602",
   "metadata": {},
   "outputs": [
    {
     "name": "stdout",
     "output_type": "stream",
     "text": [
      "398169.17727520026\n",
      "422514.0208431399\n",
      "75600\n",
      "date\n",
      "2020-12-07    252632.321379\n",
      "2020-12-14    300742.341583\n",
      "2020-12-21    391958.172535\n",
      "2020-12-28    265178.625379\n",
      "2021-01-04     88547.573760\n",
      "2021-01-11    383414.678312\n",
      "2021-01-18    393081.071183\n",
      "2021-01-25    127156.718632\n",
      "2021-02-01         0.000000\n",
      "2021-02-08         0.000000\n",
      "2021-02-15         0.000000\n",
      "2021-02-22         0.000000\n",
      "2021-03-01    305243.945423\n",
      "2021-03-08    231450.862996\n",
      "2021-03-15    397607.680739\n",
      "2021-03-22    373477.764303\n",
      "2021-03-29    253764.399272\n",
      "2021-04-05    289416.093263\n",
      "2021-04-12    126393.874472\n",
      "2021-04-19    147843.291708\n",
      "2021-04-26    358752.954715\n",
      "2021-05-03    311338.417832\n",
      "2021-05-10    375128.202891\n",
      "2021-05-17    196334.314251\n",
      "2021-05-24    351329.426571\n",
      "2021-05-31    155573.806908\n",
      "2021-06-07    389473.745291\n",
      "2021-06-14    429793.721810\n",
      "2021-06-21    212309.116811\n",
      "2021-06-28    220770.445087\n",
      "2021-07-05    409703.641523\n",
      "2021-07-12    328778.591647\n",
      "2021-07-19    591515.941319\n",
      "2021-07-26    514153.902179\n",
      "2021-08-02    515215.946703\n",
      "2021-08-09    327234.021396\n",
      "2021-08-16    462905.850703\n",
      "2021-08-23    435865.273247\n",
      "2021-08-30    516504.757131\n",
      "2021-09-06    428763.551095\n",
      "2021-09-13    475442.260579\n",
      "2021-09-20    407524.268899\n",
      "2021-09-27    290386.156712\n",
      "2021-10-04    435787.854632\n",
      "2021-10-11    340398.983868\n",
      "2021-10-18    390523.726179\n",
      "2021-10-25    317612.149308\n",
      "2021-11-01    462978.422312\n",
      "2021-11-08    391096.567503\n",
      "2021-11-15    401582.170251\n",
      "2021-11-22    403654.002019\n",
      "2021-11-29    477397.968739\n",
      "2021-12-06    289789.136828\n",
      "2021-12-13    440251.996623\n",
      "2021-12-20    390849.412855\n",
      "2021-12-27    375376.908535\n",
      "2022-01-03    236436.074792\n",
      "Freq: W-MON, Name: mean_dist_trav, dtype: float64\n"
     ]
    }
   ],
   "source": [
    "dump_arrival.date = pd.to_datetime(dump_arrival.date)\n",
    "dump_depot_week_costs = ((dump_arrival.set_index('date')['mean_dist_trav'].resample('D').sum() > 0)*1).resample('W-MON').sum()*km_cost*2*dump_back_forth_dist\n",
    "costs_week = dump_arrival.set_index('date')['mean_dist_trav'].resample('W-MON').sum()*km_cost + dump_depot_week_costs\n",
    "costs_week_nnz = costs_week[costs_week != 0]\n",
    "print(statistics.mean(costs_week)+14*period_op_cost)\n",
    "print(statistics.mean(costs_week_nnz)+14*period_op_cost)\n",
    "print(14*period_op_cost)\n",
    "print(costs_week)"
   ]
  },
  {
   "cell_type": "code",
   "execution_count": null,
   "id": "1e74bf90-3574-4ff2-91f1-75023b650aa3",
   "metadata": {},
   "outputs": [],
   "source": []
  }
 ],
 "metadata": {
  "kernelspec": {
   "display_name": "Python 3 (ipykernel)",
   "language": "python",
   "name": "python3"
  },
  "language_info": {
   "codemirror_mode": {
    "name": "ipython",
    "version": 3
   },
   "file_extension": ".py",
   "mimetype": "text/x-python",
   "name": "python",
   "nbconvert_exporter": "python",
   "pygments_lexer": "ipython3",
   "version": "3.9.1"
  }
 },
 "nbformat": 4,
 "nbformat_minor": 5
}
