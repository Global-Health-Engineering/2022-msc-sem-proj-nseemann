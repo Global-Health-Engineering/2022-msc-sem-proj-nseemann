{
 "cells": [
  {
   "cell_type": "code",
   "execution_count": null,
   "id": "ae4c8b3b-9218-4f63-94d6-234e59ffee33",
   "metadata": {},
   "outputs": [],
   "source": []
  }
 ],
 "metadata": {
  "kernelspec": {
   "display_name": "Python 3 (ipykernel)",
   "language": "python",
   "name": "python3"
  },
  "language_info": {
   "name": ""
  }
 },
 "nbformat": 4,
 "nbformat_minor": 5
}
