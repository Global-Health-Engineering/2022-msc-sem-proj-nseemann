{
 "cells": [
  {
   "cell_type": "code",
   "execution_count": 60,
   "id": "62da19bd-6bad-4491-ab64-8bdfe6a6f609",
   "metadata": {},
   "outputs": [
    {
     "name": "stdout",
     "output_type": "stream",
     "text": [
      "                       avg_ramp  number_ramps  days_overfull_prop\n",
      "                                                                 \n",
      "Bangwe_Organic_1       0.215060            24            0.258160\n",
      "Bangwe_inorganic_1     0.489648            23            0.724771\n",
      "Bangwe_inorganic_2     0.399566            16            0.737255\n",
      "BCA_Organic_1          0.091083            11            0.386293\n",
      "BCA_Organic_2          0.076705             2            0.000000\n",
      "BCA_inorganic_1        0.063115             6            0.535928\n",
      "BCA_inorganic_2        0.038462             1            0.627119\n",
      "Naizi_Organic_1        0.045997             8            0.209877\n",
      "Naizi_inorganic_1      0.144495            15            0.292899\n",
      "Chigumula_Organic_1    0.157674            21            0.183230\n",
      "Chigumula_Organic_2    0.127013            13            0.106481\n",
      "Chigumula_inorganic_1  0.055501             4            0.256173\n",
      "Chigumula_inorganic_2  0.128333             2            0.000000\n",
      "\n",
      "\n",
      "0.362165083593655\n",
      "0.07862341577124854\n",
      "0.11023480222421864\n",
      "0.13602508137618427\n"
     ]
    }
   ],
   "source": [
    "import numpy as np\n",
    "import pandas as pd\n",
    "import matplotlib.pyplot as plt\n",
    "import matplotlib.dates as mdates\n",
    "import statistics\n",
    "\n",
    "#filtered_skip_deliveries_at_Mzedi = pd.read_csv('../../data/interm_data/filtered_skip_deliveries_at_Mzedi.csv')\n",
    "mzedi_entry_skip_data_stats = pd.read_csv('../../data/interm_data/mzedi_entry_skip_data_stats.csv')\n",
    "ramping_data = pd.read_csv('../../data/interm_data/ramping_data.csv')\n",
    "ramping_data=ramping_data.set_index(ramping_data.columns[0])\n",
    "ramping_data.index = ramping_data.index.rename('')\n",
    "ramping_data.dropna(inplace=True)\n",
    "print(ramping_data)\n",
    "print('\\n')\n",
    "\n",
    "print(np.average(ramping_data[ramping_data.index.str.contains('Bangwe', regex=False)].avg_ramp, weights=ramping_data[ramping_data.index.str.contains('Bangwe', regex=False)].number_ramps))\n",
    "print(np.average(ramping_data[ramping_data.index.str.contains('BCA', regex=False)].avg_ramp, weights=ramping_data[ramping_data.index.str.contains('BCA', regex=False)].number_ramps))\n",
    "print(np.average(ramping_data[ramping_data.index.str.contains('Naizi', regex=False)].avg_ramp, weights=ramping_data[ramping_data.index.str.contains('Naizi', regex=False)].number_ramps))\n",
    "print(np.average(ramping_data[ramping_data.index.str.contains('Chigumula', regex=False)].avg_ramp, weights=ramping_data[ramping_data.index.str.contains('Chigumula', regex=False)].number_ramps))\n"
   ]
  }
 ],
 "metadata": {
  "kernelspec": {
   "display_name": "Python 3 (ipykernel)",
   "language": "python",
   "name": "python3"
  },
  "language_info": {
   "codemirror_mode": {
    "name": "ipython",
    "version": 3
   },
   "file_extension": ".py",
   "mimetype": "text/x-python",
   "name": "python",
   "nbconvert_exporter": "python",
   "pygments_lexer": "ipython3",
   "version": "3.9.1"
  }
 },
 "nbformat": 4,
 "nbformat_minor": 5
}
