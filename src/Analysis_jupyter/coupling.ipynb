{
 "cells": [
  {
   "cell_type": "code",
   "execution_count": 1,
   "id": "62da19bd-6bad-4491-ab64-8bdfe6a6f609",
   "metadata": {},
   "outputs": [
    {
     "name": "stdout",
     "output_type": "stream",
     "text": [
      "                       avg_ramp  number_ramps  days_overfull_prop  number_days\n",
      "                                                                              \n",
      "Bangwe_Organic_1       0.215060          24.0            0.258160        337.0\n",
      "Bangwe_inorganic_1     0.489648          23.0            0.724771        327.0\n",
      "Bangwe_inorganic_2     0.399566          16.0            0.737255        255.0\n",
      "BCA_Organic_1          0.091083          11.0            0.386293        321.0\n",
      "BCA_Organic_2          0.076705           2.0            0.000000         54.0\n",
      "BCA_inorganic_1        0.063115           6.0            0.535928        334.0\n",
      "BCA_inorganic_2        0.038462           1.0            0.627119        177.0\n",
      "Naizi_Organic_1        0.045997           8.0            0.209877        324.0\n",
      "Naizi_inorganic_1      0.144495          15.0            0.292899        338.0\n",
      "Chigumula_Organic_1    0.157674          21.0            0.183230        322.0\n",
      "Chigumula_Organic_2    0.127013          13.0            0.106481        216.0\n",
      "Chigumula_inorganic_1  0.055501           4.0            0.256173        324.0\n",
      "23.0\n",
      "           ramps avg_diff  ramps_OF #_dump #_ramps   calc_OF\n",
      "Bangwe  0.362165     10.5  0.557127   43.0    63.0  0.737031\n",
      "BCA     0.078623     83.0  0.467269    3.0    20.0  0.846761\n",
      "Naizi   0.110235    107.0  0.252266    3.0    23.0  0.915219\n"
     ]
    }
   ],
   "source": [
    "#| echo: true\n",
    "import numpy as np\n",
    "import pandas as pd\n",
    "import matplotlib.pyplot as plt\n",
    "import matplotlib.dates as mdates\n",
    "import statistics\n",
    "\n",
    "#filtered_skip_deliveries_at_Mzedi = pd.read_csv('../../data/interm_data/filtered_skip_deliveries_at_Mzedi.csv')\n",
    "mzedi_entry_skip_data_stats = pd.read_csv('../../data/interm_data/mzedi_entry_skip_data_stats.csv')\n",
    "mzedi_entry_skip_data_stats=mzedi_entry_skip_data_stats.set_index(mzedi_entry_skip_data_stats.columns[0])\n",
    "mzedi_entry_skip_data_stats.index = mzedi_entry_skip_data_stats.index.rename('')\n",
    "mzedi_entry_skip_data_stats.dropna(inplace=True)\n",
    "\n",
    "ramping_data = pd.read_csv('../../data/interm_data/ramping_data.csv')\n",
    "ramping_data=ramping_data.set_index(ramping_data.columns[0])\n",
    "ramping_data.index = ramping_data.index.rename('')\n",
    "ramping_data.dropna(inplace=True)\n",
    "\n",
    "\n",
    "\n",
    "listAreas = ['Bangwe','BCA','Naizi','Chigumula']\n",
    "print(ramping_data)\n",
    "areas_coupling = pd.DataFrame(columns = ['ramps','avg_diff','ramps_OF', '#_dump', '#_ramps'], index = listAreas)\n",
    "#Weighted average based on number of ramps for that area\n",
    "\n",
    "print(ramping_data[ramping_data.index.str.contains('Naizi', regex=False)].number_ramps.sum())\n",
    "for areas in listAreas:\n",
    "    areas_coupling.loc[areas]['ramps'] = np.average(ramping_data[ramping_data.index.str.contains(areas, regex=False)].avg_ramp, weights=ramping_data[ramping_data.index.str.contains(areas, regex=False)].number_ramps)\n",
    "    areas_coupling.loc[areas]['ramps_OF'] = np.average(ramping_data[ramping_data.index.str.contains(areas, regex=False)].days_overfull_prop, weights=ramping_data[ramping_data.index.str.contains(areas, regex=False)].number_days)\n",
    "    areas_coupling.loc[areas]['avg_diff']=  mzedi_entry_skip_data_stats.loc[mzedi_entry_skip_data_stats.index.str.contains(areas,regex=False)]['median'].mean()\n",
    "    areas_coupling.loc[areas]['#_dump']=  mzedi_entry_skip_data_stats.loc[mzedi_entry_skip_data_stats.index.str.contains(areas,regex=False)]['#'].sum()\n",
    "    areas_coupling.loc[areas]['#_ramps'] = ramping_data[ramping_data.index.str.contains(areas, regex=False)].number_ramps.sum()\n",
    "\n",
    "    \n",
    "    \n",
    "(areas_coupling.dropna(inplace=True))\n",
    "areas_coupling['calc_OF'] = (areas_coupling['avg_diff']-(1/areas_coupling['ramps']))/(areas_coupling['avg_diff'])\n",
    "print(areas_coupling)\n",
    "\n",
    "## Compare numbers of ramps vs numbers of arrivals in same period\n",
    "## Geographical trend of mzedi arrivals\n",
    "## Start with model creation\n",
    "\n",
    "# # for areas in listAreas:\n",
    "# #     print(areas + \" average time between collections: \" +str(mzedi_entry_skip_data_stats.loc[mzedi_entry_skip_data_stats.index.str.contains(areas,regex=False)]['median'].mean()))\n"
   ]
  }
 ],
 "metadata": {
  "kernelspec": {
   "display_name": "Python 3 (ipykernel)",
   "language": "python",
   "name": "python3"
  },
  "language_info": {
   "codemirror_mode": {
    "name": "ipython",
    "version": 3
   },
   "file_extension": ".py",
   "mimetype": "text/x-python",
   "name": "python",
   "nbconvert_exporter": "python",
   "pygments_lexer": "ipython3",
   "version": "3.9.1"
  }
 },
 "nbformat": 4,
 "nbformat_minor": 5
}
